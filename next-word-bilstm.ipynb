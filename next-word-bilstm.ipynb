{
 "cells": [
  {
   "cell_type": "code",
   "execution_count": 1,
   "id": "4c76721b-fe3e-4ed5-8993-dd5004450864",
   "metadata": {},
   "outputs": [],
   "source": [
    "import torch\n",
    "import torch.nn as nn\n",
    "from torch.utils.data import Dataset, DataLoader\n",
    "import numpy as np\n",
    "from nltk import word_tokenize\n",
    "from collections import Counter\n",
    "import re"
   ]
  },
  {
   "cell_type": "code",
   "execution_count": 2,
   "id": "255f8d52-5ba8-40e1-b705-f8347b08e5c6",
   "metadata": {},
   "outputs": [],
   "source": [
    "class TextDataset(Dataset):\n",
    "    def __init__(self, text, sequence_length, min_freq=0):\n",
    "        self.tokens = word_tokenize(text)\n",
    "        token_counts = Counter(self.tokens)\n",
    "        \n",
    "        # Build vocabulary and word-to-index and index-to-word mappings\n",
    "        self.vocab = ['<unk>'] + sorted([token for token, count in token_counts.items() if count >= min_freq], key=token_counts.get, reverse=True)\n",
    "        self.token2idx = {w: idx for idx, w in enumerate(self.vocab)}\n",
    "        self.idx2token = {idx: w for idx, w in enumerate(self.vocab)}\n",
    "        self.vocab_size = len(self.vocab)\n",
    "        \n",
    "        # Convert tokens sequence to indices sequence\n",
    "        self.indices = [self.token2idx.get(token, self.unk) for token in self.tokens]\n",
    "        \n",
    "        # Prepare sequences\n",
    "        self.sequence_length = sequence_length\n",
    "        self.data = []\n",
    "        for i in range(len(self.indices) - sequence_length):\n",
    "            input_seq = self.indices[i:i+sequence_length]\n",
    "            target_seq = self.indices[i+1:i+sequence_length+1]\n",
    "            self.data.append((input_seq, target_seq))\n",
    "\n",
    "    def __len__(self):\n",
    "        return len(self.data)\n",
    "    \n",
    "    def __getitem__(self, index):\n",
    "        return torch.tensor(self.data[index][0]), torch.tensor(self.data[index][1])\n",
    "\n",
    "    @property\n",
    "    def unk(self):\n",
    "        return self.token2idx['<unk>']"
   ]
  },
  {
   "cell_type": "code",
   "execution_count": 3,
   "id": "bb388508-239f-4881-9b97-51ef6b825c54",
   "metadata": {},
   "outputs": [],
   "source": [
    "sequence_length = 5\n",
    "batch_size = 32\n",
    "text = open('time_machine.txt', 'r').read()\n",
    "text = re.sub(\"[^A-Za-z]+\", \" \", text).lower()\n",
    "\n",
    "dataset = TextDataset(text, sequence_length)\n",
    "dataloader = DataLoader(dataset, batch_size=batch_size, shuffle=True)"
   ]
  },
  {
   "cell_type": "code",
   "execution_count": 4,
   "id": "6f888513-e2c8-407e-9a1d-d2311ba17a5e",
   "metadata": {},
   "outputs": [],
   "source": [
    "class NextWordPredictor(nn.Module):\n",
    "    def __init__(self, vocab_size, embedding_dim=128, hidden_dim=256):\n",
    "        super(NextWordPredictor, self).__init__()\n",
    "        self.embedding = nn.Embedding(vocab_size, embedding_dim)\n",
    "        self.bilstm = nn.LSTM(embedding_dim, hidden_dim, batch_first=True, bidirectional=True)\n",
    "        self.fc = nn.Linear(hidden_dim * 2, vocab_size)\n",
    "        \n",
    "    def forward(self, x, hidden):\n",
    "        # Convert word indices to embeddings\n",
    "        x = self.embedding(x)\n",
    "        # Pass through BiLSTM\n",
    "        out, hidden = self.bilstm(x, hidden)\n",
    "        # Pass through fully connected layer\n",
    "        out = self.fc(out)\n",
    "        return out, hidden\n",
    "    \n",
    "    def init_hidden(self, batch_size):\n",
    "        # Initialize hidden state and cell state with zeros for LSTM\n",
    "        h0 = torch.zeros(2, batch_size, hidden_dim)  # Hidden state\n",
    "        c0 = torch.zeros(2, batch_size, hidden_dim)  # Cell state\n",
    "        return (h0, c0)  # Return as tuple"
   ]
  },
  {
   "cell_type": "code",
   "execution_count": 5,
   "id": "d54fb302-ba90-4ea1-b4d8-83016f65dfe0",
   "metadata": {},
   "outputs": [
    {
     "name": "stdout",
     "output_type": "stream",
     "text": [
      "Epoch [1/5], Step [1/1029], Loss: 8.4387\n",
      "Epoch [1/5], Step [101/1029], Loss: 5.4627\n",
      "Epoch [1/5], Step [201/1029], Loss: 4.1382\n",
      "Epoch [1/5], Step [301/1029], Loss: 3.3840\n",
      "Epoch [1/5], Step [401/1029], Loss: 3.0845\n",
      "Epoch [1/5], Step [501/1029], Loss: 2.9229\n",
      "Epoch [1/5], Step [601/1029], Loss: 1.7984\n",
      "Epoch [1/5], Step [701/1029], Loss: 2.2113\n",
      "Epoch [1/5], Step [801/1029], Loss: 1.6271\n",
      "Epoch [1/5], Step [901/1029], Loss: 1.5721\n",
      "Epoch [1/5], Step [1001/1029], Loss: 1.2690\n",
      "Epoch [2/5], Step [1/1029], Loss: 1.0799\n",
      "Epoch [2/5], Step [101/1029], Loss: 1.0803\n"
     ]
    },
    {
     "ename": "KeyboardInterrupt",
     "evalue": "",
     "output_type": "error",
     "traceback": [
      "\u001b[0;31m---------------------------------------------------------------------------\u001b[0m",
      "\u001b[0;31mKeyboardInterrupt\u001b[0m                         Traceback (most recent call last)",
      "Cell \u001b[0;32mIn[5], line 27\u001b[0m\n\u001b[1;32m     24\u001b[0m target_seq \u001b[38;5;241m=\u001b[39m target_seq\u001b[38;5;241m.\u001b[39mview(\u001b[38;5;241m-\u001b[39m\u001b[38;5;241m1\u001b[39m)\n\u001b[1;32m     26\u001b[0m \u001b[38;5;66;03m# Calculate loss and backpropagate\u001b[39;00m\n\u001b[0;32m---> 27\u001b[0m loss \u001b[38;5;241m=\u001b[39m \u001b[43mcriterion\u001b[49m\u001b[43m(\u001b[49m\u001b[43moutput\u001b[49m\u001b[43m,\u001b[49m\u001b[43m \u001b[49m\u001b[43mtarget_seq\u001b[49m\u001b[43m)\u001b[49m\n\u001b[1;32m     28\u001b[0m loss\u001b[38;5;241m.\u001b[39mbackward()\n\u001b[1;32m     29\u001b[0m optimizer\u001b[38;5;241m.\u001b[39mstep()\n",
      "File \u001b[0;32m~/miniforge3/envs/d2l/lib/python3.9/site-packages/torch/nn/modules/module.py:1501\u001b[0m, in \u001b[0;36mModule._call_impl\u001b[0;34m(self, *args, **kwargs)\u001b[0m\n\u001b[1;32m   1496\u001b[0m \u001b[38;5;66;03m# If we don't have any hooks, we want to skip the rest of the logic in\u001b[39;00m\n\u001b[1;32m   1497\u001b[0m \u001b[38;5;66;03m# this function, and just call forward.\u001b[39;00m\n\u001b[1;32m   1498\u001b[0m \u001b[38;5;28;01mif\u001b[39;00m \u001b[38;5;129;01mnot\u001b[39;00m (\u001b[38;5;28mself\u001b[39m\u001b[38;5;241m.\u001b[39m_backward_hooks \u001b[38;5;129;01mor\u001b[39;00m \u001b[38;5;28mself\u001b[39m\u001b[38;5;241m.\u001b[39m_backward_pre_hooks \u001b[38;5;129;01mor\u001b[39;00m \u001b[38;5;28mself\u001b[39m\u001b[38;5;241m.\u001b[39m_forward_hooks \u001b[38;5;129;01mor\u001b[39;00m \u001b[38;5;28mself\u001b[39m\u001b[38;5;241m.\u001b[39m_forward_pre_hooks\n\u001b[1;32m   1499\u001b[0m         \u001b[38;5;129;01mor\u001b[39;00m _global_backward_pre_hooks \u001b[38;5;129;01mor\u001b[39;00m _global_backward_hooks\n\u001b[1;32m   1500\u001b[0m         \u001b[38;5;129;01mor\u001b[39;00m _global_forward_hooks \u001b[38;5;129;01mor\u001b[39;00m _global_forward_pre_hooks):\n\u001b[0;32m-> 1501\u001b[0m     \u001b[38;5;28;01mreturn\u001b[39;00m \u001b[43mforward_call\u001b[49m\u001b[43m(\u001b[49m\u001b[38;5;241;43m*\u001b[39;49m\u001b[43margs\u001b[49m\u001b[43m,\u001b[49m\u001b[43m \u001b[49m\u001b[38;5;241;43m*\u001b[39;49m\u001b[38;5;241;43m*\u001b[39;49m\u001b[43mkwargs\u001b[49m\u001b[43m)\u001b[49m\n\u001b[1;32m   1502\u001b[0m \u001b[38;5;66;03m# Do not call functions when jit is used\u001b[39;00m\n\u001b[1;32m   1503\u001b[0m full_backward_hooks, non_full_backward_hooks \u001b[38;5;241m=\u001b[39m [], []\n",
      "File \u001b[0;32m~/miniforge3/envs/d2l/lib/python3.9/site-packages/torch/nn/modules/loss.py:1174\u001b[0m, in \u001b[0;36mCrossEntropyLoss.forward\u001b[0;34m(self, input, target)\u001b[0m\n\u001b[1;32m   1173\u001b[0m \u001b[38;5;28;01mdef\u001b[39;00m \u001b[38;5;21mforward\u001b[39m(\u001b[38;5;28mself\u001b[39m, \u001b[38;5;28minput\u001b[39m: Tensor, target: Tensor) \u001b[38;5;241m-\u001b[39m\u001b[38;5;241m>\u001b[39m Tensor:\n\u001b[0;32m-> 1174\u001b[0m     \u001b[38;5;28;01mreturn\u001b[39;00m \u001b[43mF\u001b[49m\u001b[38;5;241;43m.\u001b[39;49m\u001b[43mcross_entropy\u001b[49m\u001b[43m(\u001b[49m\u001b[38;5;28;43minput\u001b[39;49m\u001b[43m,\u001b[49m\u001b[43m \u001b[49m\u001b[43mtarget\u001b[49m\u001b[43m,\u001b[49m\u001b[43m \u001b[49m\u001b[43mweight\u001b[49m\u001b[38;5;241;43m=\u001b[39;49m\u001b[38;5;28;43mself\u001b[39;49m\u001b[38;5;241;43m.\u001b[39;49m\u001b[43mweight\u001b[49m\u001b[43m,\u001b[49m\n\u001b[1;32m   1175\u001b[0m \u001b[43m                           \u001b[49m\u001b[43mignore_index\u001b[49m\u001b[38;5;241;43m=\u001b[39;49m\u001b[38;5;28;43mself\u001b[39;49m\u001b[38;5;241;43m.\u001b[39;49m\u001b[43mignore_index\u001b[49m\u001b[43m,\u001b[49m\u001b[43m \u001b[49m\u001b[43mreduction\u001b[49m\u001b[38;5;241;43m=\u001b[39;49m\u001b[38;5;28;43mself\u001b[39;49m\u001b[38;5;241;43m.\u001b[39;49m\u001b[43mreduction\u001b[49m\u001b[43m,\u001b[49m\n\u001b[1;32m   1176\u001b[0m \u001b[43m                           \u001b[49m\u001b[43mlabel_smoothing\u001b[49m\u001b[38;5;241;43m=\u001b[39;49m\u001b[38;5;28;43mself\u001b[39;49m\u001b[38;5;241;43m.\u001b[39;49m\u001b[43mlabel_smoothing\u001b[49m\u001b[43m)\u001b[49m\n",
      "File \u001b[0;32m~/miniforge3/envs/d2l/lib/python3.9/site-packages/torch/nn/functional.py:3029\u001b[0m, in \u001b[0;36mcross_entropy\u001b[0;34m(input, target, weight, size_average, ignore_index, reduce, reduction, label_smoothing)\u001b[0m\n\u001b[1;32m   3027\u001b[0m \u001b[38;5;28;01mif\u001b[39;00m size_average \u001b[38;5;129;01mis\u001b[39;00m \u001b[38;5;129;01mnot\u001b[39;00m \u001b[38;5;28;01mNone\u001b[39;00m \u001b[38;5;129;01mor\u001b[39;00m reduce \u001b[38;5;129;01mis\u001b[39;00m \u001b[38;5;129;01mnot\u001b[39;00m \u001b[38;5;28;01mNone\u001b[39;00m:\n\u001b[1;32m   3028\u001b[0m     reduction \u001b[38;5;241m=\u001b[39m _Reduction\u001b[38;5;241m.\u001b[39mlegacy_get_string(size_average, reduce)\n\u001b[0;32m-> 3029\u001b[0m \u001b[38;5;28;01mreturn\u001b[39;00m \u001b[43mtorch\u001b[49m\u001b[38;5;241;43m.\u001b[39;49m\u001b[43m_C\u001b[49m\u001b[38;5;241;43m.\u001b[39;49m\u001b[43m_nn\u001b[49m\u001b[38;5;241;43m.\u001b[39;49m\u001b[43mcross_entropy_loss\u001b[49m\u001b[43m(\u001b[49m\u001b[38;5;28;43minput\u001b[39;49m\u001b[43m,\u001b[49m\u001b[43m \u001b[49m\u001b[43mtarget\u001b[49m\u001b[43m,\u001b[49m\u001b[43m \u001b[49m\u001b[43mweight\u001b[49m\u001b[43m,\u001b[49m\u001b[43m \u001b[49m\u001b[43m_Reduction\u001b[49m\u001b[38;5;241;43m.\u001b[39;49m\u001b[43mget_enum\u001b[49m\u001b[43m(\u001b[49m\u001b[43mreduction\u001b[49m\u001b[43m)\u001b[49m\u001b[43m,\u001b[49m\u001b[43m \u001b[49m\u001b[43mignore_index\u001b[49m\u001b[43m,\u001b[49m\u001b[43m \u001b[49m\u001b[43mlabel_smoothing\u001b[49m\u001b[43m)\u001b[49m\n",
      "\u001b[0;31mKeyboardInterrupt\u001b[0m: "
     ]
    }
   ],
   "source": [
    "# Hyperparameters\n",
    "embedding_dim = 128\n",
    "hidden_dim = 256\n",
    "num_epochs = 5\n",
    "learning_rate = 0.001\n",
    "\n",
    "# Initialize the model, loss function, and optimizer\n",
    "model = NextWordPredictor(vocab_size=dataset.vocab_size, embedding_dim=embedding_dim, hidden_dim=hidden_dim)\n",
    "criterion = nn.CrossEntropyLoss()\n",
    "optimizer = torch.optim.Adam(model.parameters(), lr=learning_rate)\n",
    "\n",
    "# Training loop\n",
    "for epoch in range(num_epochs):\n",
    "    for i, (input_seq, target_seq) in enumerate(dataloader):\n",
    "        hidden = model.init_hidden(input_seq.size(0))  # Initialize hidden state for each epoch\n",
    "        # Zero gradients\n",
    "        optimizer.zero_grad()\n",
    "        \n",
    "        # Forward pass\n",
    "        output, hidden = model(input_seq, hidden)\n",
    "        \n",
    "        # Reshape output and target for loss calculation\n",
    "        output = output.view(-1, dataset.vocab_size)\n",
    "        target_seq = target_seq.view(-1)\n",
    "        \n",
    "        # Calculate loss and backpropagate\n",
    "        loss = criterion(output, target_seq)\n",
    "        loss.backward()\n",
    "        optimizer.step()\n",
    "        \n",
    "        if i % 100 == 0 or i == len(dataloader):\n",
    "            print(f'Epoch [{epoch+1}/{num_epochs}], Step [{i+1}/{len(dataloader)}], Loss: {loss.item():.4f}')"
   ]
  },
  {
   "cell_type": "code",
   "execution_count": null,
   "id": "515bd2f7-ddd8-40e5-aff1-a8b9a128e751",
   "metadata": {},
   "outputs": [],
   "source": [
    "def predict_next_word(model, start_text, num_words=5):\n",
    "    model.eval()\n",
    "    \n",
    "    # Prepare input sequence\n",
    "    words = start_text.lower().split()\n",
    "    input_seq = [dataset.token2idx[word] for word in words]\n",
    "    input_seq = torch.tensor(input_seq).unsqueeze(0)\n",
    "    \n",
    "    # Initialize hidden state\n",
    "    hidden = model.init_hidden(1)\n",
    "    \n",
    "    # Predict words\n",
    "    predicted_words = words.copy()\n",
    "    for _ in range(num_words):\n",
    "        output, hidden = model(input_seq, hidden)\n",
    "        \n",
    "        # Get the last time-step's output\n",
    "        last_word_logits = output[:, -1, :]\n",
    "        _, predicted_idx = torch.max(last_word_logits, dim=1)\n",
    "        \n",
    "        # Convert predicted index to word and add to predicted words\n",
    "        predicted_word = dataset.idx2token[predicted_idx.item()]\n",
    "        predicted_words.append(predicted_word)\n",
    "        \n",
    "        # Prepare the next input sequence with the predicted word\n",
    "        input_seq = torch.cat([input_seq[:, 1:], predicted_idx.unsqueeze(0)], dim=1)\n",
    "    \n",
    "    return ' '.join(predicted_words)"
   ]
  },
  {
   "cell_type": "code",
   "execution_count": null,
   "id": "2f1b3214-bc34-4c5a-9678-a6ef25df312b",
   "metadata": {},
   "outputs": [],
   "source": [
    "DEFAULT_LENGTH = 15\n",
    "context = input(\"Input initial context (only words separated by space): \")\n",
    "length = input(f\"Enter length of generated text (default: {DEFAULT_LENGTH}): \")\n",
    "if len(length) == 0:\n",
    "    length = DEFAULT_LENGTH\n",
    "\n",
    "print(\"Output:\\n\")\n",
    "print(predict_next_word(model, context, num_words=DEFAULT_LENGTH))"
   ]
  },
  {
   "cell_type": "code",
   "execution_count": null,
   "id": "ab0c83ef-0b1a-4110-a8bf-7ea8ebe936a2",
   "metadata": {},
   "outputs": [],
   "source": []
  }
 ],
 "metadata": {
  "kernelspec": {
   "display_name": "Python (d2l)",
   "language": "python",
   "name": "d2l-kernel"
  },
  "language_info": {
   "codemirror_mode": {
    "name": "ipython",
    "version": 3
   },
   "file_extension": ".py",
   "mimetype": "text/x-python",
   "name": "python",
   "nbconvert_exporter": "python",
   "pygments_lexer": "ipython3",
   "version": "3.9.20"
  }
 },
 "nbformat": 4,
 "nbformat_minor": 5
}
