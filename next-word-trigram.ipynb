{
 "cells": [
  {
   "cell_type": "code",
   "execution_count": 1,
   "id": "5f5e1f50-c33d-420a-bcc2-41dd72716aaa",
   "metadata": {},
   "outputs": [],
   "source": [
    "import re\n",
    "from collections import Counter\n",
    "import random"
   ]
  },
  {
   "cell_type": "code",
   "execution_count": 2,
   "id": "88cd7095-a874-4609-a18b-561177de6374",
   "metadata": {},
   "outputs": [],
   "source": [
    "class TrigramModelBackoff:\n",
    "    def __init__(self, text):\n",
    "        self.text = text\n",
    "\n",
    "        self.words = text.split()\n",
    "        self.unigram_counter = Counter(self.words)\n",
    "\n",
    "        self.bigram_tokens = [\n",
    "            \"--\".join(pair) for pair in zip(self.words[:-1], self.words[1:])\n",
    "        ]\n",
    "        self.bigram_counter = Counter(self.bigram_tokens)\n",
    "\n",
    "        self.trigram_tokens = [\n",
    "            \"--\".join(triple)\n",
    "            for triple in zip(self.words[:-2], self.words[1:-1], self.words[2:])\n",
    "        ]\n",
    "        self.trigram_counter = Counter(self.trigram_tokens)\n",
    "\n",
    "        self.unigram_probabilities = {}\n",
    "        for word in self.unigram_counter:\n",
    "            self.unigram_probabilities[word] = self.unigram_counter[word] / len(\n",
    "                self.words\n",
    "            )\n",
    "\n",
    "        self.bigram_probabilities = {}\n",
    "        for bigram in self.bigram_tokens:\n",
    "            unigram_context, curr_word = bigram.split(\"--\")\n",
    "            prob = self.bigram_counter[bigram] / self.unigram_counter[unigram_context]\n",
    "            if unigram_context in self.bigram_probabilities:\n",
    "                self.bigram_probabilities[unigram_context][curr_word] = prob\n",
    "            else:\n",
    "                self.bigram_probabilities[unigram_context] = {curr_word: prob}\n",
    "\n",
    "        self.trigram_probabilities = {}\n",
    "        for trigram in self.trigram_tokens:\n",
    "            split_trigram = trigram.split(\"--\")\n",
    "            bigram_context, curr_word = (\n",
    "                \"--\".join(split_trigram[0:2]),\n",
    "                split_trigram[2],\n",
    "            )\n",
    "            prob = self.trigram_counter[trigram] / self.bigram_counter[bigram_context]\n",
    "            if bigram_context in self.trigram_probabilities:\n",
    "                self.trigram_probabilities[bigram_context][curr_word] = prob\n",
    "            else:\n",
    "                self.trigram_probabilities[bigram_context] = {curr_word: prob}\n",
    "\n",
    "    def sample_word_unigram(self):\n",
    "        words = list(self.unigram_probabilities.keys())\n",
    "        probabilities = list(self.unigram_probabilities.values())\n",
    "        sampled_word = random.choices(words, weights=probabilities, k=1)[0]\n",
    "        return sampled_word\n",
    "\n",
    "    def sample_word_bigram(self, unigram_context):\n",
    "        if unigram_context not in self.bigram_probabilities:\n",
    "            return self.sample_word_unigram()\n",
    "        words = list(self.bigram_probabilities[unigram_context].keys())\n",
    "        probabilities = list(self.bigram_probabilities[unigram_context].values())\n",
    "        sampled_word = random.choices(words, weights=probabilities, k=1)[0]\n",
    "        return sampled_word\n",
    "\n",
    "    def sample_word_trigram(self, bigram_context):\n",
    "        if bigram_context not in self.trigram_probabilities:\n",
    "            unigram_context = bigram_context.split(\"--\")[1]\n",
    "            return self.sample_word_bigram(unigram_context)\n",
    "        words = list(self.trigram_probabilities[bigram_context].keys())\n",
    "        probabilities = list(self.trigram_probabilities[bigram_context].values())\n",
    "        sampled_word = random.choices(words, weights=probabilities, k=1)[0]\n",
    "        return sampled_word\n"
   ]
  },
  {
   "cell_type": "code",
   "execution_count": 4,
   "id": "11a60af3-a563-4bcc-8c76-f6197441c0a1",
   "metadata": {},
   "outputs": [
    {
     "name": "stdin",
     "output_type": "stream",
     "text": [
      "Input initial context (only words separated by space):  this is\n",
      "Enter length of generated text (default: 15):  20\n"
     ]
    },
    {
     "name": "stdout",
     "output_type": "stream",
     "text": [
      "Output:\n",
      "\n",
      "this is so extensively overlooked continued the time traveller was not too strongly for even a library to me i don t \n"
     ]
    }
   ],
   "source": [
    "text = open(\"time_machine.txt\", \"r\").read()\n",
    "text = re.sub(\"[^A-Za-z]+\", \" \", text).lower()\n",
    "trigram = TrigramModelBackoff(text)\n",
    "\n",
    "DEFAULT_LENGTH = 15\n",
    "context = input(\"Input initial context (only words separated by space): \")\n",
    "length = input(f\"Enter length of generated text (default: {DEFAULT_LENGTH}): \")\n",
    "if len(length) == 0:\n",
    "    length = DEFAULT_LENGTH\n",
    "\n",
    "split_context = context.split()\n",
    "# if initial context is less than 2 words\n",
    "if len(split_context) == 0:\n",
    "    word = trigram.sample_word_unigram()\n",
    "    split_context = [word]\n",
    "if len(split_context) == 1:\n",
    "    word = trigram.sample_word_bigram(split_context[0])\n",
    "    context = \" \".join([split_context[0], word])\n",
    "\n",
    "print(\"Output:\\n\")\n",
    "print(context, end=\" \")\n",
    "context = \"--\".join(context.split()[-2:])\n",
    "for _ in range(int(length)):\n",
    "    word = trigram.sample_word_trigram(context)\n",
    "    print(word, end=\" \")\n",
    "    context = f\"{context.split('--')[1]}--{word}\"\n",
    "print()"
   ]
  }
 ],
 "metadata": {
  "kernelspec": {
   "display_name": "Python (d2l)",
   "language": "python",
   "name": "d2l-kernel"
  },
  "language_info": {
   "codemirror_mode": {
    "name": "ipython",
    "version": 3
   },
   "file_extension": ".py",
   "mimetype": "text/x-python",
   "name": "python",
   "nbconvert_exporter": "python",
   "pygments_lexer": "ipython3",
   "version": "3.9.20"
  }
 },
 "nbformat": 4,
 "nbformat_minor": 5
}
